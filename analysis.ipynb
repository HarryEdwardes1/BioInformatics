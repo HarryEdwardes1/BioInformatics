{
 "cells": [
  {
   "cell_type": "code",
   "execution_count": 1,
   "metadata": {},
   "outputs": [
    {
     "name": "stdout",
     "output_type": "stream",
     "text": [
      "Sequence ID: NM_001127233.2\n",
      "Sequence Length: 1824\n",
      "Sequence Description: Mus musculus transformation related protein 53 (Trp53), transcript variant 2, mRNA\n"
     ]
    }
   ],
   "source": [
    "from Bio import Entrez, SeqIO\n",
    "\n",
    "# Provide your email\n",
    "Entrez.email = \"hedwardes.ai@gmail.com\"\n",
    "\n",
    "# Search for a specific gene in Mouse, e.g., Trp53\n",
    "handle = Entrez.esearch(db=\"nucleotide\", term=\"Mus musculus[Organism] AND Trp53[Gene]\", retmax=1)\n",
    "record = Entrez.read(handle)\n",
    "handle.close()\n",
    "\n",
    "# Get the first GenBank ID\n",
    "genbank_id = record[\"IdList\"][0]\n",
    "\n",
    "# Fetch the sequence data\n",
    "handle = Entrez.efetch(db=\"nucleotide\", id=genbank_id, rettype=\"gb\", retmode=\"text\")\n",
    "seq_record = SeqIO.read(handle, \"genbank\")\n",
    "handle.close()\n",
    "\n",
    "# Print sequence information\n",
    "print(f\"Sequence ID: {seq_record.id}\")\n",
    "print(f\"Sequence Length: {len(seq_record.seq)}\")\n",
    "print(f\"Sequence Description: {seq_record.description}\")"
   ]
  }
 ],
 "metadata": {
  "kernelspec": {
   "display_name": "bioinformatics_env",
   "language": "python",
   "name": "python3"
  },
  "language_info": {
   "codemirror_mode": {
    "name": "ipython",
    "version": 3
   },
   "file_extension": ".py",
   "mimetype": "text/x-python",
   "name": "python",
   "nbconvert_exporter": "python",
   "pygments_lexer": "ipython3",
   "version": "3.8.19"
  }
 },
 "nbformat": 4,
 "nbformat_minor": 2
}

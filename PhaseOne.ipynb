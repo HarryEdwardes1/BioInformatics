{
 "cells": [
  {
   "cell_type": "code",
   "execution_count": 1,
   "metadata": {},
   "outputs": [],
   "source": [
    "from Bio import Entrez, SeqIO\n",
    "import pandas as pd\n",
    "import numpy as np\n",
    "import os"
   ]
  },
  {
   "cell_type": "code",
   "execution_count": 3,
   "metadata": {},
   "outputs": [],
   "source": [
    "# Informing NCBI\n",
    "Entrez.email = \"hedwardes.ai@gmail.com\"\n"
   ]
  },
  {
   "cell_type": "code",
   "execution_count": 4,
   "metadata": {},
   "outputs": [
    {
     "name": "stdout",
     "output_type": "stream",
     "text": [
      "Found 13 records for Trp53[Gene] in Mus musculus[Organism].\n"
     ]
    }
   ],
   "source": [
    "# Search parameters\n",
    "organism = \"Mus musculus[Organism]\"\n",
    "gene = \"Trp53[Gene]\"\n",
    "search_term = f\"{organism} AND {gene}\"\n",
    "\n",
    "# Perform the search\n",
    "handle = Entrez.esearch(db=\"nucleotide\", term=search_term, retmax=100)\n",
    "record = Entrez.read(handle)\n",
    "handle.close()\n",
    "\n",
    "# Get a list of GenBank IDs\n",
    "genbank_ids = record[\"IdList\"]\n",
    "print(f\"Found {len(genbank_ids)} records for {gene} in {organism}.\")"
   ]
  },
  {
   "cell_type": "code",
   "execution_count": 5,
   "metadata": {},
   "outputs": [
    {
     "name": "stdout",
     "output_type": "stream",
     "text": [
      "Retrieved and saved: NM_001127233.2, Length: 1824\n",
      "Retrieved and saved: NM_011640.4, Length: 1728\n",
      "Retrieved and saved: XM_030245923.2, Length: 2031\n",
      "Retrieved and saved: XM_006533157.5, Length: 2136\n",
      "Retrieved and saved: NC_000077.7, Length: 121973369\n",
      "Retrieved and saved: XM_030245922.1, Length: 1881\n",
      "Retrieved and saved: CH466601.1, Length: 7647059\n",
      "Retrieved and saved: AF367373.1, Length: 1502\n",
      "Retrieved and saved: CM000219.2, Length: 132665419\n",
      "Retrieved and saved: BC005448.1, Length: 1782\n",
      "Retrieved and saved: AY044188.1, Length: 1176\n",
      "Retrieved and saved: AL731687.13, Length: 116898\n",
      "Retrieved and saved: EU031806.1, Length: 1250\n"
     ]
    }
   ],
   "source": [
    "# Directory to save sequences\n",
    "os.makedirs('sequences', exist_ok=True)\n",
    "\n",
    "sequences = []\n",
    "\n",
    "for genbank_id in genbank_ids:\n",
    "    try:\n",
    "        handle = Entrez.efetch(db=\"nucleotide\", id=genbank_id, rettype=\"gb\", retmode=\"text\")\n",
    "        seq_record = SeqIO.read(handle, \"genbank\")\n",
    "        handle.close()\n",
    "        sequences.append(seq_record)\n",
    "        # Save each sequence to a FASTA file\n",
    "        SeqIO.write(seq_record, f\"sequences/{seq_record.id}.fasta\", \"fasta\")\n",
    "        print(f\"Retrieved and saved: {seq_record.id}, Length: {len(seq_record.seq)}\")\n",
    "    except Exception as e:\n",
    "        print(f\"An error occurred while retrieving {genbank_id}: {e}\")"
   ]
  },
  {
   "cell_type": "code",
   "execution_count": 10,
   "metadata": {},
   "outputs": [
    {
     "name": "stdout",
     "output_type": "stream",
     "text": [
      "Sequence NC_000077.7 excluded due to insufficient length or ambiguous nucleotides.\n",
      "Sequence CH466601.1 excluded due to insufficient length or ambiguous nucleotides.\n",
      "Sequence CM000219.2 excluded due to insufficient length or ambiguous nucleotides.\n",
      "Number of clean sequences: 10\n"
     ]
    }
   ],
   "source": [
    "# Pre-Processing\n",
    "\n",
    "# Filter sequences based on length and content\n",
    "min_length = 500  # Define minimum acceptable sequence length\n",
    "clean_sequences = []\n",
    "\n",
    "for seq_record in sequences:\n",
    "    sequence = str(seq_record.seq).upper()\n",
    "    if len(sequence) >= min_length and 'N' not in sequence:\n",
    "        clean_sequences.append(seq_record)\n",
    "    else:\n",
    "        print(f\"Sequence {seq_record.id} excluded due to insufficient length or ambiguous nucleotides.\")\n",
    "\n",
    "print(f\"Number of clean sequences: {len(clean_sequences)}\")"
   ]
  },
  {
   "cell_type": "code",
   "execution_count": 12,
   "metadata": {},
   "outputs": [
    {
     "name": "stdout",
     "output_type": "stream",
     "text": [
      "Skipping feature in AL731687.13 due to error: Feature references another sequence (AL596125.27), not found in references\n",
      "Skipping feature in AL731687.13 due to error: Feature references another sequence (AL603707.5), not found in references\n",
      "Number of CDS sequences extracted: 17\n"
     ]
    }
   ],
   "source": [
    "# Extract Coding Sequences (CDS) as mutations in the coding regions are more likely to affect gene function.\n",
    "\n",
    "# Create a dictionary mapping sequence IDs to their sequences\n",
    "references = {record.id: record.seq for record in clean_sequences}\n",
    "\n",
    "cds_sequences = []\n",
    "\n",
    "for seq_record in clean_sequences:\n",
    "    for feature in seq_record.features:\n",
    "        if feature.type == \"CDS\":\n",
    "            try:\n",
    "                # Provide the references dictionary to handle referenced sequences\n",
    "                cds_seq = feature.extract(seq_record.seq, references=references)\n",
    "                cds_sequences.append({\n",
    "                    'id': seq_record.id,\n",
    "                    'sequence': str(cds_seq),\n",
    "                    'description': seq_record.description\n",
    "                })\n",
    "            except ValueError as e:\n",
    "                print(f\"Skipping feature in {seq_record.id} due to error: {e}\")\n",
    "\n",
    "print(f\"Number of CDS sequences extracted: {len(cds_sequences)}\")\n"
   ]
  },
  {
   "cell_type": "code",
   "execution_count": 13,
   "metadata": {},
   "outputs": [
    {
     "name": "stdout",
     "output_type": "stream",
     "text": [
      "               id                                           sequence  \\\n",
      "0  NM_001127233.2  ATGACTGCCATGGAGGAGTCACAGTCGGATATCAGCCTCGAGCTCC...   \n",
      "1     NM_011640.4  ATGACTGCCATGGAGGAGTCACAGTCGGATATCAGCCTCGAGCTCC...   \n",
      "2  XM_030245923.2  ATGACTGCCATGGAGGAGTCACAGTCGGATATCAGCCTCGAGCTCC...   \n",
      "3  XM_006533157.5  ATGACTGCCATGGAGGAGTCACAGTCGGATATCAGCCTCGAGCTCC...   \n",
      "4  XM_030245922.1  ATGACTGCCATGGAGGAGTCACAGTCGGATATCAGCCTCGAGCTCC...   \n",
      "\n",
      "                                         description  \n",
      "0  Mus musculus transformation related protein 53...  \n",
      "1  Mus musculus transformation related protein 53...  \n",
      "2  PREDICTED: Mus musculus transformation related...  \n",
      "3  PREDICTED: Mus musculus transformation related...  \n",
      "4  PREDICTED: Mus musculus transformation related...  \n"
     ]
    }
   ],
   "source": [
    "# Convert to DataFrame\n",
    "df_sequences = pd.DataFrame(cds_sequences)\n",
    "print(df_sequences.head())"
   ]
  },
  {
   "cell_type": "code",
   "execution_count": 14,
   "metadata": {},
   "outputs": [
    {
     "name": "stdout",
     "output_type": "stream",
     "text": [
      "label\n",
      "0    12\n",
      "1     5\n",
      "Name: count, dtype: int64\n"
     ]
    }
   ],
   "source": [
    "def assign_label(description):\n",
    "    description_lower = description.lower()\n",
    "    if \"mutant\" in description_lower or \"mutation\" in description_lower or \"variant\" in description_lower:\n",
    "        return 1  # Mutated\n",
    "    else:\n",
    "        return 0  # Normal\n",
    "\n",
    "df_sequences['label'] = df_sequences['description'].apply(assign_label)\n",
    "\n",
    "# Check label distribution\n",
    "print(df_sequences['label'].value_counts())"
   ]
  }
 ],
 "metadata": {
  "kernelspec": {
   "display_name": "bioinformatics_env",
   "language": "python",
   "name": "python3"
  },
  "language_info": {
   "codemirror_mode": {
    "name": "ipython",
    "version": 3
   },
   "file_extension": ".py",
   "mimetype": "text/x-python",
   "name": "python",
   "nbconvert_exporter": "python",
   "pygments_lexer": "ipython3",
   "version": "3.8.19"
  }
 },
 "nbformat": 4,
 "nbformat_minor": 2
}

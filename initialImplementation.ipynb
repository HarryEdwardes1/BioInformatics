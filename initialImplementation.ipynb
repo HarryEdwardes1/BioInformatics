{
 "cells": [
  {
   "cell_type": "code",
   "execution_count": 1,
   "metadata": {},
   "outputs": [],
   "source": [
    "from Bio import Entrez, SeqIO\n",
    "import pandas as pd\n",
    "import numpy as np\n",
    "import os"
   ]
  },
  {
   "cell_type": "code",
   "execution_count": 3,
   "metadata": {},
   "outputs": [],
   "source": [
    "# Informing NCBI\n",
    "Entrez.email = \"hedwardes.ai@gmail.com\"\n"
   ]
  },
  {
   "cell_type": "code",
   "execution_count": 4,
   "metadata": {},
   "outputs": [
    {
     "name": "stdout",
     "output_type": "stream",
     "text": [
      "Found 13 records for Trp53[Gene] in Mus musculus[Organism].\n"
     ]
    }
   ],
   "source": [
    "# Search parameters\n",
    "organism = \"Mus musculus[Organism]\"\n",
    "gene = \"Trp53[Gene]\"\n",
    "search_term = f\"{organism} AND {gene}\"\n",
    "\n",
    "# Perform the search\n",
    "handle = Entrez.esearch(db=\"nucleotide\", term=search_term, retmax=100)\n",
    "record = Entrez.read(handle)\n",
    "handle.close()\n",
    "\n",
    "# Get a list of GenBank IDs\n",
    "genbank_ids = record[\"IdList\"]\n",
    "print(f\"Found {len(genbank_ids)} records for {gene} in {organism}.\")"
   ]
  },
  {
   "cell_type": "code",
   "execution_count": 5,
   "metadata": {},
   "outputs": [
    {
     "name": "stdout",
     "output_type": "stream",
     "text": [
      "Retrieved and saved: NM_001127233.2, Length: 1824\n",
      "Retrieved and saved: NM_011640.4, Length: 1728\n",
      "Retrieved and saved: XM_030245923.2, Length: 2031\n",
      "Retrieved and saved: XM_006533157.5, Length: 2136\n",
      "Retrieved and saved: NC_000077.7, Length: 121973369\n",
      "Retrieved and saved: XM_030245922.1, Length: 1881\n",
      "Retrieved and saved: CH466601.1, Length: 7647059\n",
      "Retrieved and saved: AF367373.1, Length: 1502\n",
      "Retrieved and saved: CM000219.2, Length: 132665419\n",
      "Retrieved and saved: BC005448.1, Length: 1782\n",
      "Retrieved and saved: AY044188.1, Length: 1176\n",
      "Retrieved and saved: AL731687.13, Length: 116898\n",
      "Retrieved and saved: EU031806.1, Length: 1250\n"
     ]
    }
   ],
   "source": [
    "# Directory to save sequences\n",
    "os.makedirs('sequences', exist_ok=True)\n",
    "\n",
    "sequences = []\n",
    "\n",
    "for genbank_id in genbank_ids:\n",
    "    try:\n",
    "        handle = Entrez.efetch(db=\"nucleotide\", id=genbank_id, rettype=\"gb\", retmode=\"text\")\n",
    "        seq_record = SeqIO.read(handle, \"genbank\")\n",
    "        handle.close()\n",
    "        sequences.append(seq_record)\n",
    "        # Save each sequence to a FASTA file\n",
    "        SeqIO.write(seq_record, f\"sequences/{seq_record.id}.fasta\", \"fasta\")\n",
    "        print(f\"Retrieved and saved: {seq_record.id}, Length: {len(seq_record.seq)}\")\n",
    "    except Exception as e:\n",
    "        print(f\"An error occurred while retrieving {genbank_id}: {e}\")"
   ]
  },
  {
   "cell_type": "code",
   "execution_count": 10,
   "metadata": {},
   "outputs": [
    {
     "name": "stdout",
     "output_type": "stream",
     "text": [
      "Sequence NC_000077.7 excluded due to insufficient length or ambiguous nucleotides.\n",
      "Sequence CH466601.1 excluded due to insufficient length or ambiguous nucleotides.\n",
      "Sequence CM000219.2 excluded due to insufficient length or ambiguous nucleotides.\n",
      "Number of clean sequences: 10\n"
     ]
    }
   ],
   "source": [
    "# Pre-Processing\n",
    "\n",
    "# Filter sequences based on length and content\n",
    "min_length = 500  # Define minimum acceptable sequence length\n",
    "clean_sequences = []\n",
    "\n",
    "for seq_record in sequences:\n",
    "    sequence = str(seq_record.seq).upper()\n",
    "    if len(sequence) >= min_length and 'N' not in sequence:\n",
    "        clean_sequences.append(seq_record)\n",
    "    else:\n",
    "        print(f\"Sequence {seq_record.id} excluded due to insufficient length or ambiguous nucleotides.\")\n",
    "\n",
    "print(f\"Number of clean sequences: {len(clean_sequences)}\")"
   ]
  },
  {
   "cell_type": "code",
   "execution_count": 12,
   "metadata": {},
   "outputs": [
    {
     "name": "stdout",
     "output_type": "stream",
     "text": [
      "Skipping feature in AL731687.13 due to error: Feature references another sequence (AL596125.27), not found in references\n",
      "Skipping feature in AL731687.13 due to error: Feature references another sequence (AL603707.5), not found in references\n",
      "Number of CDS sequences extracted: 17\n"
     ]
    }
   ],
   "source": [
    "# Extract Coding Sequences (CDS) as mutations in the coding regions are more likely to affect gene function.\n",
    "\n",
    "# Create a dictionary mapping sequence IDs to their sequences\n",
    "references = {record.id: record.seq for record in clean_sequences}\n",
    "\n",
    "cds_sequences = []\n",
    "\n",
    "for seq_record in clean_sequences:\n",
    "    for feature in seq_record.features:\n",
    "        if feature.type == \"CDS\":\n",
    "            try:\n",
    "                # Provide the references dictionary to handle referenced sequences\n",
    "                cds_seq = feature.extract(seq_record.seq, references=references)\n",
    "                cds_sequences.append({\n",
    "                    'id': seq_record.id,\n",
    "                    'sequence': str(cds_seq),\n",
    "                    'description': seq_record.description\n",
    "                })\n",
    "            except ValueError as e:\n",
    "                print(f\"Skipping feature in {seq_record.id} due to error: {e}\")\n",
    "\n",
    "print(f\"Number of CDS sequences extracted: {len(cds_sequences)}\")\n"
   ]
  },
  {
   "cell_type": "code",
   "execution_count": 13,
   "metadata": {},
   "outputs": [
    {
     "name": "stdout",
     "output_type": "stream",
     "text": [
      "               id                                           sequence  \\\n",
      "0  NM_001127233.2  ATGACTGCCATGGAGGAGTCACAGTCGGATATCAGCCTCGAGCTCC...   \n",
      "1     NM_011640.4  ATGACTGCCATGGAGGAGTCACAGTCGGATATCAGCCTCGAGCTCC...   \n",
      "2  XM_030245923.2  ATGACTGCCATGGAGGAGTCACAGTCGGATATCAGCCTCGAGCTCC...   \n",
      "3  XM_006533157.5  ATGACTGCCATGGAGGAGTCACAGTCGGATATCAGCCTCGAGCTCC...   \n",
      "4  XM_030245922.1  ATGACTGCCATGGAGGAGTCACAGTCGGATATCAGCCTCGAGCTCC...   \n",
      "\n",
      "                                         description  \n",
      "0  Mus musculus transformation related protein 53...  \n",
      "1  Mus musculus transformation related protein 53...  \n",
      "2  PREDICTED: Mus musculus transformation related...  \n",
      "3  PREDICTED: Mus musculus transformation related...  \n",
      "4  PREDICTED: Mus musculus transformation related...  \n"
     ]
    }
   ],
   "source": [
    "# Convert to DataFrame\n",
    "df_sequences = pd.DataFrame(cds_sequences)\n",
    "print(df_sequences.head())"
   ]
  },
  {
   "cell_type": "code",
   "execution_count": 14,
   "metadata": {},
   "outputs": [
    {
     "name": "stdout",
     "output_type": "stream",
     "text": [
      "label\n",
      "0    12\n",
      "1     5\n",
      "Name: count, dtype: int64\n"
     ]
    }
   ],
   "source": [
    "def assign_label(description):\n",
    "    description_lower = description.lower()\n",
    "    if \"mutant\" in description_lower or \"mutation\" in description_lower or \"variant\" in description_lower:\n",
    "        return 1  # Mutated\n",
    "    else:\n",
    "        return 0  # Normal\n",
    "\n",
    "df_sequences['label'] = df_sequences['description'].apply(assign_label)\n",
    "\n",
    "# Check label distribution\n",
    "print(df_sequences['label'].value_counts())"
   ]
  },
  {
   "cell_type": "code",
   "execution_count": 16,
   "metadata": {},
   "outputs": [],
   "source": [
    "import numpy as np\n",
    "\n",
    "# Mapping nucleotides to integers\n",
    "nucleotide_to_int = {'A': 0, 'C': 1, 'G': 2, 'T': 3}\n",
    "\n",
    "def one_hot_encode_sequence(seq):\n",
    "    integer_encoded = [nucleotide_to_int[base] for base in seq if base in nucleotide_to_int]\n",
    "    one_hot_encoded = np.zeros((len(integer_encoded), 4), dtype=np.float32)\n",
    "    one_hot_encoded[np.arange(len(integer_encoded)), integer_encoded] = 1\n",
    "    return one_hot_encoded\n",
    "\n",
    "# Apply encoding to all sequences\n",
    "df_sequences['encoded_sequence'] = df_sequences['sequence'].apply(one_hot_encode_sequence)"
   ]
  },
  {
   "cell_type": "code",
   "execution_count": 17,
   "metadata": {},
   "outputs": [],
   "source": [
    "# Determine maximum sequence length\n",
    "max_length = 1000  # You can adjust this based on your data\n",
    "\n",
    "# Pad or truncate sequences\n",
    "def pad_sequence(seq, max_length):\n",
    "    if len(seq) >= max_length:\n",
    "        return seq[:max_length]\n",
    "    else:\n",
    "        padding = np.zeros((max_length - len(seq), 4), dtype=np.float32)\n",
    "        return np.vstack([seq, padding])\n",
    "\n",
    "df_sequences['padded_sequence'] = df_sequences['encoded_sequence'].apply(lambda x: pad_sequence(x, max_length))"
   ]
  },
  {
   "cell_type": "code",
   "execution_count": 18,
   "metadata": {},
   "outputs": [],
   "source": [
    "import torch\n",
    "\n",
    "# Stack sequences into a single numpy array\n",
    "X = np.stack(df_sequences['padded_sequence'].values)\n",
    "y = df_sequences['label'].values\n",
    "\n",
    "# Convert to PyTorch tensors\n",
    "X_tensor = torch.tensor(X)\n",
    "y_tensor = torch.tensor(y, dtype=torch.long)"
   ]
  },
  {
   "cell_type": "code",
   "execution_count": 19,
   "metadata": {},
   "outputs": [],
   "source": [
    "from sklearn.model_selection import train_test_split\n",
    "\n",
    "X_train, X_test, y_train, y_test = train_test_split(X_tensor, y_tensor, test_size=0.2, random_state=42, stratify=y_tensor)"
   ]
  },
  {
   "cell_type": "code",
   "execution_count": 20,
   "metadata": {},
   "outputs": [],
   "source": [
    "from torch.utils.data import TensorDataset, DataLoader\n",
    "\n",
    "# Create datasets\n",
    "train_dataset = TensorDataset(X_train, y_train)\n",
    "test_dataset = TensorDataset(X_test, y_test)\n",
    "\n",
    "# Create dataloaders\n",
    "batch_size = 32\n",
    "\n",
    "train_loader = DataLoader(train_dataset, batch_size=batch_size, shuffle=True)\n",
    "test_loader = DataLoader(test_dataset, batch_size=batch_size)"
   ]
  },
  {
   "cell_type": "code",
   "execution_count": 25,
   "metadata": {},
   "outputs": [],
   "source": [
    "import torch.nn as nn\n",
    "import torch.nn.functional as F\n",
    "\n",
    "class DNAClassifier(nn.Module):\n",
    "    def __init__(self):\n",
    "        super(DNAClassifier, self).__init__()\n",
    "        self.conv1 = nn.Conv1d(in_channels=4, out_channels=64, kernel_size=8)\n",
    "        self.pool1 = nn.MaxPool1d(kernel_size=2)\n",
    "        self.conv2 = nn.Conv1d(in_channels=64, out_channels=128, kernel_size=8)\n",
    "        self.pool2 = nn.MaxPool1d(kernel_size=2)\n",
    "        self.fc1 = nn.Linear(31232, 128)\n",
    "        self.dropout = nn.Dropout(0.5)\n",
    "        self.fc2 = nn.Linear(128, 2)  # Output layer for 2 classes\n",
    "\n",
    "    def forward(self, x):\n",
    "        x = x.permute(0, 2, 1)  # Change shape to (batch_size, channels, sequence_length)\n",
    "        x = F.relu(self.conv1(x))\n",
    "        x = self.pool1(x)\n",
    "        x = F.relu(self.conv2(x))\n",
    "        x = self.pool2(x)\n",
    "        x = x.view(-1, self.num_flat_features(x))\n",
    "        x = F.relu(self.fc1(x))\n",
    "        x = self.dropout(x)\n",
    "        x = self.fc2(x)\n",
    "        return x\n",
    "\n",
    "    def num_flat_features(self, x):\n",
    "        size = x.size()[1:]  # Exclude batch dimension\n",
    "        num_features = 1\n",
    "        for s in size:\n",
    "            num_features *= s\n",
    "        return num_features\n",
    "\n",
    "# Instantiate the model\n",
    "model = DNAClassifier()"
   ]
  },
  {
   "cell_type": "code",
   "execution_count": 26,
   "metadata": {},
   "outputs": [],
   "source": [
    "def compute_output_length(input_length, kernel_size, padding=0, stride=1, dilation=1):\n",
    "    return ((input_length + 2*padding - dilation*(kernel_size - 1) - 1) // stride) + 1\n",
    "\n",
    "# After first conv and pool\n",
    "length1 = compute_output_length(max_length, 8)\n",
    "length1 = compute_output_length(length1, 2, stride=2)\n",
    "\n",
    "# After second conv and pool\n",
    "length2 = compute_output_length(length1, 8)\n",
    "length2 = compute_output_length(length2, 2, stride=2)\n",
    "\n",
    "# Calculate the input features for fc1\n",
    "input_features_fc1 = length2 * 128  # 128 is the number of output channels from conv2"
   ]
  },
  {
   "cell_type": "code",
   "execution_count": 27,
   "metadata": {},
   "outputs": [],
   "source": [
    "import torch.optim as optim\n",
    "\n",
    "criterion = nn.CrossEntropyLoss()\n",
    "optimizer = optim.Adam(model.parameters(), lr=0.0001)\n"
   ]
  },
  {
   "cell_type": "code",
   "execution_count": 28,
   "metadata": {},
   "outputs": [
    {
     "name": "stdout",
     "output_type": "stream",
     "text": [
      "Epoch 1/50, Loss: 0.7026, Accuracy: 0.3077\n",
      "Epoch 2/50, Loss: 0.6420, Accuracy: 0.6923\n",
      "Epoch 3/50, Loss: 0.6126, Accuracy: 0.6923\n",
      "Epoch 4/50, Loss: 0.5459, Accuracy: 0.6923\n",
      "Epoch 5/50, Loss: 0.4690, Accuracy: 0.6923\n",
      "Epoch 6/50, Loss: 0.4967, Accuracy: 0.6923\n",
      "Epoch 7/50, Loss: 0.4827, Accuracy: 0.6923\n",
      "Epoch 8/50, Loss: 0.4684, Accuracy: 0.6923\n",
      "Epoch 9/50, Loss: 0.4173, Accuracy: 0.8462\n",
      "Epoch 10/50, Loss: 0.5341, Accuracy: 0.6154\n",
      "Epoch 11/50, Loss: 0.4790, Accuracy: 0.6154\n",
      "Epoch 12/50, Loss: 0.3428, Accuracy: 0.9231\n",
      "Epoch 13/50, Loss: 0.3966, Accuracy: 0.7692\n",
      "Epoch 14/50, Loss: 0.3913, Accuracy: 0.8462\n",
      "Epoch 15/50, Loss: 0.4113, Accuracy: 0.7692\n",
      "Epoch 16/50, Loss: 0.4492, Accuracy: 0.6154\n",
      "Epoch 17/50, Loss: 0.4118, Accuracy: 0.7692\n",
      "Epoch 18/50, Loss: 0.4015, Accuracy: 0.7692\n",
      "Epoch 19/50, Loss: 0.4220, Accuracy: 0.6154\n",
      "Epoch 20/50, Loss: 0.3947, Accuracy: 0.6154\n",
      "Epoch 21/50, Loss: 0.4390, Accuracy: 0.5385\n",
      "Epoch 22/50, Loss: 0.4461, Accuracy: 0.7692\n",
      "Epoch 23/50, Loss: 0.3229, Accuracy: 0.7692\n",
      "Epoch 24/50, Loss: 0.4032, Accuracy: 0.7692\n",
      "Epoch 25/50, Loss: 0.4442, Accuracy: 0.6154\n",
      "Epoch 26/50, Loss: 0.4413, Accuracy: 0.6923\n",
      "Epoch 27/50, Loss: 0.3528, Accuracy: 0.7692\n",
      "Epoch 28/50, Loss: 0.4033, Accuracy: 0.7692\n",
      "Epoch 29/50, Loss: 0.4104, Accuracy: 0.7692\n",
      "Epoch 30/50, Loss: 0.4272, Accuracy: 0.6154\n",
      "Epoch 31/50, Loss: 0.3761, Accuracy: 0.7692\n",
      "Epoch 32/50, Loss: 0.3685, Accuracy: 0.6923\n",
      "Epoch 33/50, Loss: 0.3418, Accuracy: 0.8462\n",
      "Epoch 34/50, Loss: 0.2976, Accuracy: 1.0000\n",
      "Epoch 35/50, Loss: 0.3539, Accuracy: 0.6923\n",
      "Epoch 36/50, Loss: 0.4069, Accuracy: 0.6923\n",
      "Epoch 37/50, Loss: 0.4025, Accuracy: 0.6154\n",
      "Epoch 38/50, Loss: 0.3707, Accuracy: 0.7692\n",
      "Epoch 39/50, Loss: 0.3446, Accuracy: 0.7692\n",
      "Epoch 40/50, Loss: 0.3987, Accuracy: 0.6154\n",
      "Epoch 41/50, Loss: 0.3284, Accuracy: 0.9231\n",
      "Epoch 42/50, Loss: 0.3349, Accuracy: 0.8462\n",
      "Epoch 43/50, Loss: 0.3544, Accuracy: 0.8462\n",
      "Epoch 44/50, Loss: 0.3356, Accuracy: 0.9231\n",
      "Epoch 45/50, Loss: 0.3854, Accuracy: 0.6154\n",
      "Epoch 46/50, Loss: 0.3934, Accuracy: 0.7692\n",
      "Epoch 47/50, Loss: 0.4456, Accuracy: 0.6154\n",
      "Epoch 48/50, Loss: 0.3688, Accuracy: 0.7692\n",
      "Epoch 49/50, Loss: 0.2912, Accuracy: 0.9231\n",
      "Epoch 50/50, Loss: 0.4055, Accuracy: 0.8462\n"
     ]
    }
   ],
   "source": [
    "num_epochs = 50\n",
    "device = torch.device(\"cuda\" if torch.cuda.is_available() else \"cpu\")\n",
    "model.to(device)\n",
    "\n",
    "for epoch in range(num_epochs):\n",
    "    model.train()\n",
    "    running_loss = 0.0\n",
    "    correct_predictions = 0\n",
    "    \n",
    "    for inputs, labels in train_loader:\n",
    "        inputs = inputs.to(device)\n",
    "        labels = labels.to(device)\n",
    "        \n",
    "        # Zero the parameter gradients\n",
    "        optimizer.zero_grad()\n",
    "        \n",
    "        # Forward pass\n",
    "        outputs = model(inputs)\n",
    "        loss = criterion(outputs, labels)\n",
    "        \n",
    "        # Backward pass and optimize\n",
    "        loss.backward()\n",
    "        optimizer.step()\n",
    "        \n",
    "        # Statistics\n",
    "        running_loss += loss.item() * inputs.size(0)\n",
    "        _, predicted = torch.max(outputs.data, 1)\n",
    "        correct_predictions += (predicted == labels).sum().item()\n",
    "    \n",
    "    epoch_loss = running_loss / len(train_dataset)\n",
    "    epoch_acc = correct_predictions / len(train_dataset)\n",
    "    \n",
    "    print(f'Epoch {epoch+1}/{num_epochs}, Loss: {epoch_loss:.4f}, Accuracy: {epoch_acc:.4f}')"
   ]
  },
  {
   "cell_type": "code",
   "execution_count": 29,
   "metadata": {},
   "outputs": [
    {
     "name": "stdout",
     "output_type": "stream",
     "text": [
      "Test Accuracy: 1.0000\n"
     ]
    }
   ],
   "source": [
    "model.eval()\n",
    "correct = 0\n",
    "total = 0\n",
    "\n",
    "with torch.no_grad():\n",
    "    for inputs, labels in test_loader:\n",
    "        inputs = inputs.to(device)\n",
    "        labels = labels.to(device)\n",
    "        outputs = model(inputs)\n",
    "        _, predicted = torch.max(outputs.data, 1)\n",
    "        total += labels.size(0)\n",
    "        correct += (predicted == labels).sum().item()\n",
    "\n",
    "test_accuracy = correct / total\n",
    "print(f'Test Accuracy: {test_accuracy:.4f}')"
   ]
  },
  {
   "cell_type": "code",
   "execution_count": 30,
   "metadata": {},
   "outputs": [
    {
     "name": "stdout",
     "output_type": "stream",
     "text": [
      "              precision    recall  f1-score   support\n",
      "\n",
      "      Normal       1.00      1.00      1.00         3\n",
      "     Mutated       1.00      1.00      1.00         1\n",
      "\n",
      "    accuracy                           1.00         4\n",
      "   macro avg       1.00      1.00      1.00         4\n",
      "weighted avg       1.00      1.00      1.00         4\n",
      "\n"
     ]
    },
    {
     "data": {
      "image/png": "[encoded data removed]",
      "text/plain": [
       "<Figure size 640x480 with 2 Axes>"
      ]
     },
     "metadata": {},
     "output_type": "display_data"
    }
   ],
   "source": [
    "from sklearn.metrics import classification_report, confusion_matrix\n",
    "\n",
    "# Collect all predictions and true labels\n",
    "all_preds = []\n",
    "all_labels = []\n",
    "\n",
    "model.eval()\n",
    "with torch.no_grad():\n",
    "    for inputs, labels in test_loader:\n",
    "        inputs = inputs.to(device)\n",
    "        labels = labels.to(device)\n",
    "        outputs = model(inputs)\n",
    "        _, predicted = torch.max(outputs.data, 1)\n",
    "        all_preds.extend(predicted.cpu().numpy())\n",
    "        all_labels.extend(labels.cpu().numpy())\n",
    "\n",
    "# Classification report\n",
    "print(classification_report(all_labels, all_preds, target_names=['Normal', 'Mutated']))\n",
    "\n",
    "# Confusion matrix\n",
    "import seaborn as sns\n",
    "import matplotlib.pyplot as plt\n",
    "\n",
    "cm = confusion_matrix(all_labels, all_preds)\n",
    "sns.heatmap(cm, annot=True, fmt='d', cmap='Blues', xticklabels=['Normal', 'Mutated'], yticklabels=['Normal', 'Mutated'])\n",
    "plt.ylabel('Actual')\n",
    "plt.xlabel('Predicted')\n",
    "plt.title('Confusion Matrix')\n",
    "plt.show()"
   ]
  },
  {
   "cell_type": "code",
   "execution_count": 32,
   "metadata": {},
   "outputs": [
    {
     "name": "stderr",
     "output_type": "stream",
     "text": [
      "C:\\Users\\harry\\AppData\\Local\\Temp\\ipykernel_46796\\3744730301.py:5: FutureWarning: You are using `torch.load` with `weights_only=False` (the current default value), which uses the default pickle module implicitly. It is possible to construct malicious pickle data which will execute arbitrary code during unpickling (See https://github.com/pytorch/pytorch/blob/main/SECURITY.md#untrusted-models for more details). In a future release, the default value for `weights_only` will be flipped to `True`. This limits the functions that could be executed during unpickling. Arbitrary objects will no longer be allowed to be loaded via this mode unless they are explicitly allowlisted by the user via `torch.serialization.add_safe_globals`. We recommend you start setting `weights_only=True` for any use case where you don't have full control of the loaded file. Please open an issue on GitHub for any issues related to this experimental feature.\n",
      "  model.load_state_dict(torch.load('dna_classifier_model.pth'))\n"
     ]
    },
    {
     "data": {
      "text/plain": [
       "DNAClassifier(\n",
       "  (conv1): Conv1d(4, 64, kernel_size=(8,), stride=(1,))\n",
       "  (pool1): MaxPool1d(kernel_size=2, stride=2, padding=0, dilation=1, ceil_mode=False)\n",
       "  (conv2): Conv1d(64, 128, kernel_size=(8,), stride=(1,))\n",
       "  (pool2): MaxPool1d(kernel_size=2, stride=2, padding=0, dilation=1, ceil_mode=False)\n",
       "  (fc1): Linear(in_features=31232, out_features=128, bias=True)\n",
       "  (dropout): Dropout(p=0.5, inplace=False)\n",
       "  (fc2): Linear(in_features=128, out_features=2, bias=True)\n",
       ")"
      ]
     },
     "execution_count": 32,
     "metadata": {},
     "output_type": "execute_result"
    }
   ],
   "source": [
    "torch.save(model.state_dict(), 'dna_classifier_model.pth')\n",
    "\n",
    "# Instantiate the model\n",
    "model = DNAClassifier()\n",
    "model.load_state_dict(torch.load('dna_classifier_model.pth'))\n",
    "model.to(device)"
   ]
  }
 ],
 "metadata": {
  "kernelspec": {
   "display_name": "bioinformatics_env",
   "language": "python",
   "name": "python3"
  },
  "language_info": {
   "codemirror_mode": {
    "name": "ipython",
    "version": 3
   },
   "file_extension": ".py",
   "mimetype": "text/x-python",
   "name": "python",
   "nbconvert_exporter": "python",
   "pygments_lexer": "ipython3",
   "version": "3.8.19"
  }
 },
 "nbformat": 4,
 "nbformat_minor": 2
}
